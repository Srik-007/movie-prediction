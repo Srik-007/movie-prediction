{
 "cells": [
  {
   "cell_type": "code",
   "execution_count": 4,
   "id": "e15b5cf3",
   "metadata": {},
   "outputs": [],
   "source": [
    "import numpy as np\n",
    "import tensorflow as tf\n",
    "from tensorflow.keras.preprocessing import sequence\n",
    "from tensorflow.keras.models import Sequential,load_model\n",
    "from tensorflow.keras.layers import Embedding,SimpleRNN,Dense\n",
    "from tensorflow.keras.datasets import imdb\n",
    "import tensorboard as tensorboard\n",
    "import datetime\n",
    "from tensorflow.keras.preprocessing import sequence\n",
    "from tensorflow.keras.callbacks import EarlyStopping, TensorBoard\n"
   ]
  },
  {
   "cell_type": "code",
   "execution_count": 2,
   "id": "8d52f1c1",
   "metadata": {},
   "outputs": [],
   "source": [
    "word_index=imdb.get_word_index()\n",
    "reverse_index={value:key for key,value in word_index.items()}"
   ]
  },
  {
   "cell_type": "code",
   "execution_count": 9,
   "id": "89be494c",
   "metadata": {},
   "outputs": [
    {
     "name": "stderr",
     "output_type": "stream",
     "text": [
      "WARNING:absl:Compiled the loaded model, but the compiled metrics have yet to be built. `model.compile_metrics` will be empty until you train or evaluate the model.\n"
     ]
    }
   ],
   "source": [
    "model = load_model('simplernn_imdb.h5')"
   ]
  },
  {
   "cell_type": "code",
   "execution_count": 14,
   "id": "5d149333",
   "metadata": {},
   "outputs": [],
   "source": [
    "def decode_review(encoded_review):\n",
    "    decoded_review=' '.join([reverse_index.get(i-3,'?') for i in encoded_review])\n",
    "    return decoded_review\n",
    "def preproccess_test(text):\n",
    "    words=text.lower().split()\n",
    "    encoded_review=[word_index.get(word,2)+3 for word in words]\n",
    "    padded_review=sequence.pad_sequences([encoded_review],maxlen=500)\n",
    "    return padded_review"
   ]
  },
  {
   "cell_type": "code",
   "execution_count": null,
   "id": "df10d87f",
   "metadata": {},
   "outputs": [],
   "source": [
    "def predict_sentiment(review):\n",
    "    preproccess_input=preproccess_test(review)\n",
    "    prediction=model.predict(preproccess_input)\n",
    "    sentiment='Positive' if prediction[0][0] >0.5 else 'Negative'\n",
    "    return sentiment, prediction[0][0]"
   ]
  },
  {
   "cell_type": "code",
   "execution_count": 16,
   "id": "7dbd179d",
   "metadata": {},
   "outputs": [
    {
     "name": "stdout",
     "output_type": "stream",
     "text": [
      "\u001b[1m1/1\u001b[0m \u001b[32m━━━━━━━━━━━━━━━━━━━━\u001b[0m\u001b[37m\u001b[0m \u001b[1m0s\u001b[0m 118ms/step\n",
      "Movie Review: The movie was fantastic, the acting was great and the story was compelling\n",
      "Sentiment: Positive\n",
      "Happy-meter: 0.8881886005401611\n"
     ]
    }
   ],
   "source": [
    "example_review=\"The movie was fantastic, the acting was great and the story was compelling\"\n",
    "sentiment,prediction=predict_sentiment(example_review)\n",
    "print(f\"Movie Review: {example_review}\")\n",
    "print(f\"Sentiment: {sentiment}\")\n",
    "print(f\"Happy-meter: {prediction}\")"
   ]
  },
  {
   "cell_type": "code",
   "execution_count": null,
   "id": "c7602875",
   "metadata": {},
   "outputs": [],
   "source": []
  },
  {
   "cell_type": "code",
   "execution_count": null,
   "id": "8e6b7cf4",
   "metadata": {},
   "outputs": [],
   "source": []
  },
  {
   "cell_type": "code",
   "execution_count": null,
   "id": "9df5231e",
   "metadata": {},
   "outputs": [],
   "source": []
  },
  {
   "cell_type": "code",
   "execution_count": null,
   "id": "a1767639",
   "metadata": {},
   "outputs": [],
   "source": []
  },
  {
   "cell_type": "code",
   "execution_count": null,
   "id": "4e4e9d1d",
   "metadata": {},
   "outputs": [],
   "source": []
  },
  {
   "cell_type": "code",
   "execution_count": null,
   "id": "880a1bb4",
   "metadata": {},
   "outputs": [],
   "source": []
  },
  {
   "cell_type": "code",
   "execution_count": null,
   "id": "dd6f73ae",
   "metadata": {},
   "outputs": [],
   "source": []
  },
  {
   "cell_type": "code",
   "execution_count": null,
   "id": "167e0591",
   "metadata": {},
   "outputs": [],
   "source": []
  },
  {
   "cell_type": "code",
   "execution_count": null,
   "id": "9b1edb9f",
   "metadata": {},
   "outputs": [],
   "source": []
  },
  {
   "cell_type": "code",
   "execution_count": null,
   "id": "a2c814b4",
   "metadata": {},
   "outputs": [],
   "source": []
  },
  {
   "cell_type": "code",
   "execution_count": null,
   "id": "3613174b",
   "metadata": {},
   "outputs": [],
   "source": []
  },
  {
   "cell_type": "code",
   "execution_count": null,
   "id": "f1108f7f",
   "metadata": {},
   "outputs": [],
   "source": []
  },
  {
   "cell_type": "code",
   "execution_count": null,
   "id": "08fef706",
   "metadata": {},
   "outputs": [],
   "source": []
  },
  {
   "cell_type": "code",
   "execution_count": null,
   "id": "ae57452e",
   "metadata": {},
   "outputs": [],
   "source": []
  },
  {
   "cell_type": "code",
   "execution_count": null,
   "id": "a6a1443e",
   "metadata": {},
   "outputs": [],
   "source": []
  },
  {
   "cell_type": "code",
   "execution_count": null,
   "id": "ae56e663",
   "metadata": {},
   "outputs": [],
   "source": []
  },
  {
   "cell_type": "code",
   "execution_count": null,
   "id": "bf469740",
   "metadata": {},
   "outputs": [],
   "source": []
  },
  {
   "cell_type": "code",
   "execution_count": null,
   "id": "3f3b30c8",
   "metadata": {},
   "outputs": [],
   "source": []
  },
  {
   "cell_type": "code",
   "execution_count": null,
   "id": "89d3ab27",
   "metadata": {},
   "outputs": [],
   "source": []
  },
  {
   "cell_type": "code",
   "execution_count": null,
   "id": "a4eaab28",
   "metadata": {},
   "outputs": [],
   "source": []
  },
  {
   "cell_type": "code",
   "execution_count": null,
   "id": "e3d9f2cf",
   "metadata": {},
   "outputs": [],
   "source": []
  }
 ],
 "metadata": {
  "kernelspec": {
   "display_name": "rnn",
   "language": "python",
   "name": "python3"
  },
  "language_info": {
   "codemirror_mode": {
    "name": "ipython",
    "version": 3
   },
   "file_extension": ".py",
   "mimetype": "text/x-python",
   "name": "python",
   "nbconvert_exporter": "python",
   "pygments_lexer": "ipython3",
   "version": "3.12.7"
  }
 },
 "nbformat": 4,
 "nbformat_minor": 5
}
